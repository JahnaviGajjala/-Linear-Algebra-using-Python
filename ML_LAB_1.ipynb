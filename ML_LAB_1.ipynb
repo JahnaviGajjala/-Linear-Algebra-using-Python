{
  "nbformat": 4,
  "nbformat_minor": 0,
  "metadata": {
    "colab": {
      "name": "ML LAB-1.ipynb",
      "provenance": [],
      "collapsed_sections": [],
      "authorship_tag": "ABX9TyMLhqRQcUjHo1ZdToEQbTSV",
      "include_colab_link": true
    },
    "kernelspec": {
      "name": "python3",
      "display_name": "Python 3"
    },
    "language_info": {
      "name": "python"
    }
  },
  "cells": [
    {
      "cell_type": "markdown",
      "metadata": {
        "id": "view-in-github",
        "colab_type": "text"
      },
      "source": [
        "<a href=\"https://colab.research.google.com/github/JahnaviGajjala/-Linear-Algebra-using-Python/blob/main/ML_LAB_1.ipynb\" target=\"_parent\"><img src=\"https://colab.research.google.com/assets/colab-badge.svg\" alt=\"Open In Colab\"/></a>"
      ]
    },
    {
      "cell_type": "markdown",
      "metadata": {
        "id": "VDSjON5SxyYh"
      },
      "source": [
        "**NUMPY LIBRARY**"
      ]
    },
    {
      "cell_type": "code",
      "source": [
        ""
      ],
      "metadata": {
        "id": "-OS9h-52eoGG"
      },
      "execution_count": null,
      "outputs": []
    },
    {
      "cell_type": "code",
      "source": [
        ""
      ],
      "metadata": {
        "id": "Nnma6LiMeon_"
      },
      "execution_count": null,
      "outputs": []
    },
    {
      "cell_type": "code",
      "metadata": {
        "colab": {
          "base_uri": "https://localhost:8080/"
        },
        "id": "0nGKQiKzxLma",
        "outputId": "56f78b6c-6e47-46fd-e01c-74ae94ead4cf"
      },
      "source": [
        "numlist = [1,2,3,4,4]\n",
        "numlist"
      ],
      "execution_count": null,
      "outputs": [
        {
          "output_type": "execute_result",
          "data": {
            "text/plain": [
              "[1, 2, 3, 4, 4]"
            ]
          },
          "metadata": {},
          "execution_count": 26
        }
      ]
    },
    {
      "cell_type": "code",
      "metadata": {
        "colab": {
          "base_uri": "https://localhost:8080/"
        },
        "id": "ky7lnm_8xJ47",
        "outputId": "9cbfa06e-c466-428d-bb32-7fb69ef72958"
      },
      "source": [
        "import numpy as np\n",
        "np.mean(numlist)\n",
        "np.sqrt(4)"
      ],
      "execution_count": null,
      "outputs": [
        {
          "output_type": "execute_result",
          "data": {
            "text/plain": [
              "2.0"
            ]
          },
          "metadata": {},
          "execution_count": 27
        }
      ]
    },
    {
      "cell_type": "code",
      "metadata": {
        "colab": {
          "base_uri": "https://localhost:8080/"
        },
        "id": "6f5xMGr8xb5F",
        "outputId": "eed07088-8d59-408c-c7f4-6a481134bdc3"
      },
      "source": [
        "np.linspace(1,10,7)#creates linearly spaced numbers between the first and second nummbers."
      ],
      "execution_count": null,
      "outputs": [
        {
          "output_type": "execute_result",
          "data": {
            "text/plain": [
              "array([ 1. ,  2.5,  4. ,  5.5,  7. ,  8.5, 10. ])"
            ]
          },
          "metadata": {},
          "execution_count": 28
        }
      ]
    },
    {
      "cell_type": "markdown",
      "metadata": {
        "id": "0J5-CZHZx-LD"
      },
      "source": [
        "**MATPLOTLIB LIBRARY**"
      ]
    },
    {
      "cell_type": "code",
      "metadata": {
        "colab": {
          "base_uri": "https://localhost:8080/",
          "height": 282
        },
        "id": "Uyq08ZhbvR2W",
        "outputId": "eadf5b56-6cfc-4364-c66d-5317fffdbf47"
      },
      "source": [
        "\n",
        "import matplotlib.pyplot as plt\n",
        "import numpy as np\n",
        "# Plot the data\n",
        "plt.plot(35,4,'ro')#a red circle"
      ],
      "execution_count": null,
      "outputs": [
        {
          "output_type": "execute_result",
          "data": {
            "text/plain": [
              "[<matplotlib.lines.Line2D at 0x7fec1e2834d0>]"
            ]
          },
          "metadata": {},
          "execution_count": 32
        },
        {
          "output_type": "display_data",
          "data": {
            "image/png": "[encoded data removed]",
            "text/plain": [
              "<Figure size 432x288 with 1 Axes>"
            ]
          },
          "metadata": {
            "needs_background": "light"
          }
        }
      ]
    },
    {
      "cell_type": "code",
      "metadata": {
        "colab": {
          "base_uri": "https://localhost:8080/",
          "height": 265
        },
        "id": "4oejMthQvamz",
        "outputId": "3f5958a9-36a5-4ddf-ec04-a6423bc61e24"
      },
      "source": [
        "import matplotlib.pyplot as plt\n",
        "import numpy as np\n",
        "# Plot the data\n",
        "plt.plot(35,4,'r.')#a red dot\n",
        "# Show the plot\n",
        "plt.show()"
      ],
      "execution_count": null,
      "outputs": [
        {
          "output_type": "display_data",
          "data": {
            "image/png": "[encoded data removed]",
            "text/plain": [
              "<Figure size 432x288 with 1 Axes>"
            ]
          },
          "metadata": {
            "needs_background": "light"
          }
        }
      ]
    },
    {
      "cell_type": "code",
      "metadata": {
        "colab": {
          "base_uri": "https://localhost:8080/",
          "height": 265
        },
        "id": "fTE86UKIzX3v",
        "outputId": "51e82f7c-d95c-4a68-b66c-094d67271b06"
      },
      "source": [
        "import matplotlib.pyplot as plt\n",
        "import numpy as np\n",
        "# Plot the data\n",
        "plt.plot(35,4,'s')#square\n",
        "# Show the plot\n",
        "plt.show()"
      ],
      "execution_count": null,
      "outputs": [
        {
          "output_type": "display_data",
          "data": {
            "image/png": "[encoded data removed]",
            "text/plain": [
              "<Figure size 432x288 with 1 Axes>"
            ]
          },
          "metadata": {
            "needs_background": "light"
          }
        }
      ]
    },
    {
      "cell_type": "code",
      "metadata": {
        "colab": {
          "base_uri": "https://localhost:8080/",
          "height": 298
        },
        "id": "nrXUHz6nvbiQ",
        "outputId": "41111fa4-32f4-4e5e-b610-4c5c95002e25"
      },
      "source": [
        "x=np.arange(-9,10)#specifies a range of numbers but python ignores the second numbers in the range\n",
        "print(x)\n",
        "y=x**2\n",
        "# Plot the data\n",
        "plt.plot(x,y/2,'bs')\n",
        "plt.plot(x,y,'r')"
      ],
      "execution_count": null,
      "outputs": [
        {
          "output_type": "stream",
          "text": [
            "[-9 -8 -7 -6 -5 -4 -3 -2 -1  0  1  2  3  4  5  6  7  8  9]\n"
          ],
          "name": "stdout"
        },
        {
          "output_type": "execute_result",
          "data": {
            "text/plain": [
              "[<matplotlib.lines.Line2D at 0x7fec1e0ebb50>]"
            ]
          },
          "metadata": {},
          "execution_count": 35
        },
        {
          "output_type": "display_data",
          "data": {
            "image/png": "[encoded data removed]",
            "text/plain": [
              "<Figure size 432x288 with 1 Axes>"
            ]
          },
          "metadata": {
            "needs_background": "light"
          }
        }
      ]
    },
    {
      "cell_type": "code",
      "metadata": {
        "colab": {
          "base_uri": "https://localhost:8080/",
          "height": 265
        },
        "id": "wl1CrUyZvblZ",
        "outputId": "45d4c7fa-efa3-43b0-dd4d-2d2c4bc359ef"
      },
      "source": [
        "plt.plot([0,3],[-1,1],label='1st line')\n",
        "plt.plot([3,7],[4,7],label='2nd line')\n",
        "# Add a legend\n",
        "plt.legend()\n",
        "plt.show()"
      ],
      "execution_count": null,
      "outputs": [
        {
          "output_type": "display_data",
          "data": {
            "image/png": "[encoded data removed]",
            "text/plain": [
              "<Figure size 432x288 with 1 Axes>"
            ]
          },
          "metadata": {
            "needs_background": "light"
          }
        }
      ]
    },
    {
      "cell_type": "code",
      "metadata": {
        "colab": {
          "base_uri": "https://localhost:8080/"
        },
        "id": "KWMCd4KuvboX",
        "outputId": "84257297-e3ef-403a-c20d-305b4c62528f"
      },
      "source": [
        "m=np.random.randint(0,10,size=(4,5))#creates a 4 by 5 matrix with random rumbers in the range of 0 to 10\n",
        "m"
      ],
      "execution_count": null,
      "outputs": [
        {
          "output_type": "execute_result",
          "data": {
            "text/plain": [
              "array([[0, 8, 8, 6, 7],\n",
              "       [7, 1, 2, 0, 0],\n",
              "       [4, 4, 5, 4, 5],\n",
              "       [8, 0, 2, 6, 0]])"
            ]
          },
          "metadata": {},
          "execution_count": 29
        }
      ]
    },
    {
      "cell_type": "code",
      "metadata": {
        "colab": {
          "base_uri": "https://localhost:8080/",
          "height": 269
        },
        "id": "SechGxKTvbrS",
        "outputId": "f73bd448-b44b-4c51-e48d-06c33aba807e"
      },
      "source": [
        "plt.imshow(m)#show the number with the help of colours\n",
        "plt.show()"
      ],
      "execution_count": null,
      "outputs": [
        {
          "output_type": "display_data",
          "data": {
            "image/png": "[encoded data removed]",
            "text/plain": [
              "<Figure size 432x288 with 1 Axes>"
            ]
          },
          "metadata": {
            "needs_background": "light"
          }
        }
      ]
    },
    {
      "cell_type": "code",
      "metadata": {
        "colab": {
          "base_uri": "https://localhost:8080/",
          "height": 269
        },
        "id": "9ThQ0Gszvbt7",
        "outputId": "fc6bb542-5b52-4785-846a-cf7e5b866ed9"
      },
      "source": [
        "plt.imshow(m)#drawing the red lines to the opposite corners \n",
        "plt.plot([-0.5,4.5],[-0.5,3.5],'r')\n",
        "plt.plot([3.5,-0.5],[-0.5,3.5],'r')\n",
        "plt.show()"
      ],
      "execution_count": null,
      "outputs": [
        {
          "output_type": "display_data",
          "data": {
            "image/png": "[encoded data removed]",
            "text/plain": [
              "<Figure size 432x288 with 1 Axes>"
            ]
          },
          "metadata": {
            "needs_background": "light"
          }
        }
      ]
    },
    {
      "cell_type": "markdown",
      "metadata": {
        "id": "IGI2pxll0LdH"
      },
      "source": [
        "**VECTOR AND SCALAR MULTIPLICATION**"
      ]
    },
    {
      "cell_type": "code",
      "metadata": {
        "colab": {
          "base_uri": "https://localhost:8080/"
        },
        "id": "thq3Ac1Dvbwa",
        "outputId": "e2cb66cf-77dd-461a-e5c5-838a8591ec0e"
      },
      "source": [
        "#appends the vec s times to vec\n",
        "vec=[3,4,5,2]\n",
        "s=2\n",
        "vec*s"
      ],
      "execution_count": null,
      "outputs": [
        {
          "output_type": "execute_result",
          "data": {
            "text/plain": [
              "[3, 4, 5, 2, 3, 4, 5, 2]"
            ]
          },
          "metadata": {},
          "execution_count": 8
        }
      ]
    },
    {
      "cell_type": "code",
      "metadata": {
        "colab": {
          "base_uri": "https://localhost:8080/"
        },
        "id": "BtIm1jvdvbzC",
        "outputId": "a187927f-95f4-4e96-d83e-f323599cb4fc"
      },
      "source": [
        "#gives multiplication of the vector * scalar \n",
        "vec=np.array([3,4,5,2])\n",
        "s=3\n",
        "vec*s"
      ],
      "execution_count": null,
      "outputs": [
        {
          "output_type": "execute_result",
          "data": {
            "text/plain": [
              "array([ 9, 12, 15,  6])"
            ]
          },
          "metadata": {},
          "execution_count": 36
        }
      ]
    },
    {
      "cell_type": "code",
      "metadata": {
        "colab": {
          "base_uri": "https://localhost:8080/"
        },
        "id": "bC59ItWZvb1p",
        "outputId": "bec0fae2-9d23-4c6d-995a-947b988315cf"
      },
      "source": [
        "vec2d=np.array([1,2])\n",
        "s1=2\n",
        "s2=.5\n",
        "s3=-1\n",
        "vec2d[1]"
      ],
      "execution_count": null,
      "outputs": [
        {
          "output_type": "execute_result",
          "data": {
            "text/plain": [
              "2"
            ]
          },
          "metadata": {},
          "execution_count": 11
        }
      ]
    },
    {
      "cell_type": "code",
      "metadata": {
        "colab": {
          "base_uri": "https://localhost:8080/",
          "height": 286
        },
        "id": "oBExu4v1vb4K",
        "outputId": "da307796-d555-4590-fd06-ca613ff2dd2e"
      },
      "source": [
        "plt.plot([0,vec2d[0]],[0,vec2d[1]],'bs-')\n",
        "plt.plot([0,s1*vec2d[0]],[0,vec2d[1]],'r.--')\n",
        "plt.axis('square')\n",
        "plt.xlim([-4,4])\n",
        "plt.ylim([-4,4])\n",
        "plt.grid()\n",
        "plt.legend()\n",
        "plt.show()"
      ],
      "execution_count": null,
      "outputs": [
        {
          "output_type": "stream",
          "text": [
            "No handles with labels found to put in legend.\n"
          ],
          "name": "stderr"
        },
        {
          "output_type": "display_data",
          "data": {
            "image/png": "[encoded data removed]",
            "text/plain": [
              "<Figure size 432x288 with 1 Axes>"
            ]
          },
          "metadata": {
            "needs_background": "light"
          }
        }
      ]
    },
    {
      "cell_type": "markdown",
      "metadata": {
        "id": "uTFVLrzL1GRT"
      },
      "source": [
        "**VECTOR DOT PRODUCT**"
      ]
    },
    {
      "cell_type": "code",
      "metadata": {
        "colab": {
          "base_uri": "https://localhost:8080/"
        },
        "id": "snkyzKKdvb6x",
        "outputId": "473514b1-d4fc-49d9-f00d-0a24af8e7590"
      },
      "source": [
        "#np.dot(vector1,vector2) gives the dot product of the matrices\n",
        "v1=np.array([5,6,2])\n",
        "v2=np.array([3,0,5])\n",
        "np.dot(v1,v2)"
      ],
      "execution_count": null,
      "outputs": [
        {
          "output_type": "execute_result",
          "data": {
            "text/plain": [
              "25"
            ]
          },
          "metadata": {},
          "execution_count": 13
        }
      ]
    },
    {
      "cell_type": "code",
      "metadata": {
        "colab": {
          "base_uri": "https://localhost:8080/"
        },
        "id": "fOdD1C92wCTZ",
        "outputId": "7516a81d-c8c5-45dc-dffe-2ffb2df142ab"
      },
      "source": [
        "# if the dot product of 2 non zero vectors is 0 then the both vectors are orthogonal to each other\n",
        "v3=np.array([-4,3,1])\n",
        "v5=np.array([2,3,-1])\n",
        "np.dot(v3,v5)"
      ],
      "execution_count": null,
      "outputs": [
        {
          "output_type": "execute_result",
          "data": {
            "text/plain": [
              "0"
            ]
          },
          "metadata": {},
          "execution_count": 37
        }
      ]
    },
    {
      "cell_type": "markdown",
      "metadata": {
        "id": "C_HA4sNj1TLO"
      },
      "source": [
        "**MATRICES**"
      ]
    },
    {
      "cell_type": "code",
      "metadata": {
        "colab": {
          "base_uri": "https://localhost:8080/"
        },
        "id": "Aa3jQNGcwEdw",
        "outputId": "07e6b58d-8a70-4d6f-d210-7e4032e92aa0"
      },
      "source": [
        "#we get an identity matrix if we use eye() function\n",
        "np.eye(3)"
      ],
      "execution_count": null,
      "outputs": [
        {
          "output_type": "execute_result",
          "data": {
            "text/plain": [
              "array([[1., 0., 0.],\n",
              "       [0., 1., 0.],\n",
              "       [0., 0., 1.]])"
            ]
          },
          "metadata": {},
          "execution_count": 15
        }
      ]
    },
    {
      "cell_type": "code",
      "metadata": {
        "colab": {
          "base_uri": "https://localhost:8080/"
        },
        "id": "RWqGy7xfwG9G",
        "outputId": "8e23994b-0424-4187-bf53-b96e153169f6"
      },
      "source": [
        "#zeros()creates a zero matrix with m rows and n columns\n",
        "np.zeros((3,4))"
      ],
      "execution_count": null,
      "outputs": [
        {
          "output_type": "execute_result",
          "data": {
            "text/plain": [
              "array([[0., 0., 0., 0.],\n",
              "       [0., 0., 0., 0.],\n",
              "       [0., 0., 0., 0.]])"
            ]
          },
          "metadata": {},
          "execution_count": 16
        }
      ]
    },
    {
      "cell_type": "code",
      "metadata": {
        "colab": {
          "base_uri": "https://localhost:8080/"
        },
        "id": "IptJBoa5wIwy",
        "outputId": "b9a0ecd4-89e6-4fce-c03c-67b72d552125"
      },
      "source": [
        "#creates a matrix with m rows and n colums with specified value \n",
        "np.full((5,2),4)"
      ],
      "execution_count": null,
      "outputs": [
        {
          "output_type": "execute_result",
          "data": {
            "text/plain": [
              "array([[4, 4],\n",
              "       [4, 4],\n",
              "       [4, 4],\n",
              "       [4, 4],\n",
              "       [4, 4]])"
            ]
          },
          "metadata": {},
          "execution_count": 17
        }
      ]
    },
    {
      "cell_type": "code",
      "metadata": {
        "colab": {
          "base_uri": "https://localhost:8080/"
        },
        "id": "SZJfUfltwKI4",
        "outputId": "73fdb418-700d-4e7b-db63-2052b45cd896"
      },
      "source": [
        "#creating the a 3*3 matrix\n",
        "m1=np.array([[1,2,3],[4,5,6],[7,8,9]])\n",
        "print(m1)"
      ],
      "execution_count": null,
      "outputs": [
        {
          "output_type": "stream",
          "text": [
            "[[1 2 3]\n",
            " [4 5 6]\n",
            " [7 8 9]]\n"
          ],
          "name": "stdout"
        }
      ]
    },
    {
      "cell_type": "markdown",
      "metadata": {
        "id": "dRJIBroJ1ZO3"
      },
      "source": [
        "**TRANSPOSING A VECTOR**"
      ]
    },
    {
      "cell_type": "code",
      "metadata": {
        "colab": {
          "base_uri": "https://localhost:8080/"
        },
        "id": "i0xuD-cXwLyl",
        "outputId": "1026f055-78a8-4fa1-de2b-2071b559be10"
      },
      "source": [
        "# matrixname.T gives the transpose of the matrix\n",
        "v1=np.array([[2,3,-1],[4,2,6]])\n",
        "print(v1)\n",
        "print()\n",
        "print(v1.T)"
      ],
      "execution_count": null,
      "outputs": [
        {
          "output_type": "stream",
          "text": [
            "[[ 2  3 -1]\n",
            " [ 4  2  6]]\n",
            "\n",
            "[[ 2  4]\n",
            " [ 3  2]\n",
            " [-1  6]]\n"
          ],
          "name": "stdout"
        }
      ]
    },
    {
      "cell_type": "code",
      "metadata": {
        "colab": {
          "base_uri": "https://localhost:8080/"
        },
        "id": "8ypnULrgwNke",
        "outputId": "e3d80f87-3e03-4845-9c06-e7d3364e809c"
      },
      "source": [
        "m2=np.random.randn(3,3)\n",
        "print(m2)\n",
        "print()\n",
        "print(m2.T)"
      ],
      "execution_count": null,
      "outputs": [
        {
          "output_type": "stream",
          "text": [
            "[[ 0.27514454  0.37060414 -1.30335262]\n",
            " [ 0.1505186  -0.64262138 -0.54580877]\n",
            " [ 0.77546866  1.40579462  0.61833427]]\n",
            "\n",
            "[[ 0.27514454  0.1505186   0.77546866]\n",
            " [ 0.37060414 -0.64262138  1.40579462]\n",
            " [-1.30335262 -0.54580877  0.61833427]]\n"
          ],
          "name": "stdout"
        }
      ]
    },
    {
      "cell_type": "code",
      "metadata": {
        "colab": {
          "base_uri": "https://localhost:8080/"
        },
        "id": "3STT6N9lwPuo",
        "outputId": "071356ec-5458-475e-a2ce-a608bbb41f43"
      },
      "source": [
        "#TRANSPOSING THEM 2 TIMES GIVE THE SAME MATRIX\n",
        "m2=np.random.randn(3,3)\n",
        "print(m2)\n",
        "print()\n",
        "print(m2.T.T)"
      ],
      "execution_count": null,
      "outputs": [
        {
          "output_type": "stream",
          "text": [
            "[[-0.71628637 -0.82743497 -1.40576411]\n",
            " [ 0.37952898  0.35785641  1.35177975]\n",
            " [ 1.30097453 -0.75178625  0.00313754]]\n",
            "\n",
            "[[-0.71628637 -0.82743497 -1.40576411]\n",
            " [ 0.37952898  0.35785641  1.35177975]\n",
            " [ 1.30097453 -0.75178625  0.00313754]]\n"
          ],
          "name": "stdout"
        }
      ]
    },
    {
      "cell_type": "markdown",
      "metadata": {
        "id": "vNoj91dH1n0o"
      },
      "source": [
        "**MATRIX MULTIPLICATION**"
      ]
    },
    {
      "cell_type": "code",
      "metadata": {
        "colab": {
          "base_uri": "https://localhost:8080/"
        },
        "id": "za6dnnoywRk7",
        "outputId": "439f299b-005c-4072-97c5-7d14001524cc"
      },
      "source": [
        "#we can use matmul(matrix1,matrix2) to multiply matrices or matrix1@matrix2\n",
        "M1=np.random.randn(4,5)#4*5 matrix\n",
        "M2=np.random.randn(4,5)#4*5 matrix\n",
        "print(M1)\n",
        "print()\n",
        "print(M2)\n",
        "print()\n",
        "print(np.matmul(M1,M2.T))#4*5 *  5*4 gives 4*4\n",
        "print()\n",
        "print(M1@M2.T)\n",
        "print()\n",
        "print(np.matmul(M1,M2.T) - M1@M2.T)#to check whether both functions give same result or not"
      ],
      "execution_count": null,
      "outputs": [
        {
          "output_type": "stream",
          "text": [
            "[[ 0.94644396 -0.15284437 -0.81568082  0.48336155  0.62835693]\n",
            " [-0.47904827 -0.22207875 -0.46739027  0.37712193 -0.90592898]\n",
            " [-2.07047561 -1.25242817  1.11247716 -0.10487524 -1.30113916]\n",
            " [-0.17940584 -0.92180808  0.36605244 -0.06618609 -0.38923157]]\n",
            "\n",
            "[[-0.25461907 -0.15176655  0.01604126  0.44275508 -0.43814415]\n",
            " [-0.31593366  0.77349458 -1.32828919  0.64944502 -2.30537712]\n",
            " [-0.34666042  0.50085502  0.94778624  0.18209901  0.77130724]\n",
            " [-0.84637688 -1.50335498  0.88672447 -3.83313764 -0.33975648]]\n",
            "\n",
            "[[-0.2921707  -0.46846073 -0.60506268 -3.36083277]\n",
            " [ 0.71208155  2.93382812 -1.0182243  -0.81289283]\n",
            " [ 1.25875729  1.1392009   0.12218183  5.46577922]\n",
            " [ 0.33268704 -0.28821538 -0.36482938  2.24818173]]\n",
            "\n",
            "[[-0.2921707  -0.46846073 -0.60506268 -3.36083277]\n",
            " [ 0.71208155  2.93382812 -1.0182243  -0.81289283]\n",
            " [ 1.25875729  1.1392009   0.12218183  5.46577922]\n",
            " [ 0.33268704 -0.28821538 -0.36482938  2.24818173]]\n",
            "\n",
            "[[0. 0. 0. 0.]\n",
            " [0. 0. 0. 0.]\n",
            " [0. 0. 0. 0.]\n",
            " [0. 0. 0. 0.]]\n"
          ],
          "name": "stdout"
        }
      ]
    },
    {
      "cell_type": "markdown",
      "metadata": {
        "id": "Wl_Cims01r5Y"
      },
      "source": [
        "**MATRIX INVERSE**"
      ]
    },
    {
      "cell_type": "code",
      "metadata": {
        "colab": {
          "base_uri": "https://localhost:8080/"
        },
        "id": "Av_9J4yUwXf-",
        "outputId": "ce17b27e-a597-4906-ed7f-7b97499c5145"
      },
      "source": [
        "#the linalg.inv() functions gives the inverse of the ,atrix as output\n",
        "A=np.random.randn(4,4)\n",
        "Ainv = np.linalg.inv(A)\n",
        "print(A)\n",
        "print()\n",
        "print(Ainv)"
      ],
      "execution_count": null,
      "outputs": [
        {
          "output_type": "stream",
          "text": [
            "[[-2.7275285   0.57164073 -0.6346157  -0.42937652]\n",
            " [ 0.07107205 -0.33820292  0.71586635 -0.27377343]\n",
            " [ 1.54501515 -0.11603367  0.04867181  0.69488009]\n",
            " [ 1.88215758  0.68345672 -0.59395079 -1.0286887 ]]\n",
            "\n",
            "[[-0.20844304 -0.05742293  0.08628939  0.1605755 ]\n",
            " [ 4.05571526  4.08697103  5.6827813   1.05816132]\n",
            " [ 2.31110695  3.54823031  3.42436544  0.40418167]\n",
            " [ 0.97881839  0.56160299  1.95631661 -0.20864247]]\n"
          ],
          "name": "stdout"
        }
      ]
    },
    {
      "cell_type": "code",
      "metadata": {
        "colab": {
          "base_uri": "https://localhost:8080/",
          "height": 324
        },
        "id": "KacYDiH_wboo",
        "outputId": "789b1cdd-0391-429b-b85b-8ce3d730b628"
      },
      "source": [
        "#setting multiple plots in the same layout\n",
        "fig,ax=plt.subplots(1,3,figsize=(6,5))\n",
        "ax[0].imshow(A)\n",
        "ax[0].set_title('A')\n",
        "ax[1].imshow(Ainv)\n",
        "ax[1].set_title('B')\n",
        "plt.show()"
      ],
      "execution_count": null,
      "outputs": [
        {
          "output_type": "display_data",
          "data": {
            "image/png": "[encoded data removed]",
            "text/plain": [
              "<Figure size 432x360 with 3 Axes>"
            ]
          },
          "metadata": {
            "needs_background": "light"
          }
        }
      ]
    },
    {
      "cell_type": "code",
      "metadata": {
        "id": "w0O4MjMDwdms"
      },
      "source": [
        ""
      ],
      "execution_count": null,
      "outputs": []
    },
    {
      "cell_type": "code",
      "metadata": {
        "id": "T3ZULMo618HL"
      },
      "source": [
        ""
      ],
      "execution_count": null,
      "outputs": []
    },
    {
      "cell_type": "code",
      "metadata": {
        "id": "AYlXVlF119Ne"
      },
      "source": [
        ""
      ],
      "execution_count": null,
      "outputs": []
    }
  ]
}